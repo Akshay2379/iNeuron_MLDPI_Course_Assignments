{
 "cells": [
  {
   "cell_type": "markdown",
   "metadata": {},
   "source": [
    "###### 1.1 Write a Python Program(with class concepts) to find the area of the triangle using the below formula.\n",
    "###### area = (s*(s-a)*(s-b)*(s-c)) ** 0.5\n",
    "###### Function to take the length of the sides of triangle from user should be defined in the parent class and function to calculate the area should be defined in subclass."
   ]
  },
  {
   "cell_type": "code",
   "execution_count": 30,
   "metadata": {},
   "outputs": [
    {
     "name": "stdout",
     "output_type": "stream",
     "text": [
      "Enter 1st Side Length (cm): 7\n",
      "Enter 2nd Side Length (cm): 9.5\n",
      "Enter 3rd Side Length (cm): 4.3\n",
      "Area of Triangle is 13.932925033890053 cm2\n"
     ]
    }
   ],
   "source": [
    "# Parent Class\n",
    "class Polygon:\n",
    "    def __init__(self, a, b, c):\n",
    "        self.a = a\n",
    "        self.b = b\n",
    "        self.c = c\n",
    "a = float(input('Enter 1st Side Length (cm): '))\n",
    "b = float(input('Enter 2nd Side Length (cm): '))\n",
    "c = float(input('Enter 3rd Side Length (cm): '))\n",
    "\n",
    "# Sub-class\n",
    "class Area(Polygon):\n",
    "    def __init__(self, a, b, c):\n",
    "        super().__init__(a, b, c)\n",
    "    \n",
    "    def tri_area(self):\n",
    "        s = (self.a + self.b + self.c)/2\n",
    "        return ((s*(s-self.a)*(s-self.b)*(s-self.c)) ** 0.5)\n",
    "\n",
    "# Run function\n",
    "Triangle = Area(a, b, c)\n",
    "\n",
    "print('Area of Triangle is', Triangle.tri_area(), 'cm2')"
   ]
  },
  {
   "cell_type": "markdown",
   "metadata": {},
   "source": [
    "###### 1.2 Write a function filter_long_words() that takes a list of words and an integer n and returns the list of words that are longer than n."
   ]
  },
  {
   "cell_type": "code",
   "execution_count": 32,
   "metadata": {},
   "outputs": [
    {
     "name": "stdout",
     "output_type": "stream",
     "text": [
      "Enter any Integer: 6\n",
      "Original List:  ['Mango', 'Strawberry', 'Cherry', 'Papaya', 'Pineapple', 'Banana', 'Coconut']\n",
      "Word List with longer than 6 letters:  ['Strawberry', 'Pineapple', 'Coconut']\n"
     ]
    }
   ],
   "source": [
    "# Initialize Function\n",
    "def filter_long_words(func, lst1):\n",
    "    lst2 = []\n",
    "    for i in lst1:\n",
    "        if func(i):\n",
    "            lst2.append(i)\n",
    "    return lst2\n",
    "\n",
    "# Set Counter\n",
    "n = int(input('Enter any Integer: '))\n",
    "\n",
    "# Function to find Long words \n",
    "def long_words(x):\n",
    "    if len(x) > n:\n",
    "        return x\n",
    "    \n",
    "# Input List elements    \n",
    "lst1 = ['Mango', 'Strawberry', 'Cherry', 'Papaya', 'Pineapple', 'Banana', 'Coconut']\n",
    "\n",
    "# Run Function\n",
    "print('Original List: ', lst1)\n",
    "\n",
    "print('Word List with longer than %d letters: ' % (n), filter_long_words(long_words, lst1))\n",
    "    "
   ]
  },
  {
   "cell_type": "markdown",
   "metadata": {},
   "source": [
    "###### 2.1 Write a Python program using function concept that maps list of words into a list of integers representing the lengths of the corresponding words.\n",
    "###### Hint: If a list [ ab,cde,erty] is passed on to the python function output should come as [2,3,4]. Here 2,3 and 4 are the lengths of the words in the list."
   ]
  },
  {
   "cell_type": "code",
   "execution_count": 122,
   "metadata": {},
   "outputs": [
    {
     "name": "stdout",
     "output_type": "stream",
     "text": [
      "[5, 10, 6, 6, 9, 6, 7]\n",
      "[2, 3, 4]\n"
     ]
    }
   ],
   "source": [
    "def map_word(lst3):\n",
    "    lst4 = [len(i) for i in lst3]\n",
    "    return lst4\n",
    "    \n",
    "print(map_word(['Mango', 'Strawberry', 'Cherry', 'Papaya', 'Pineapple', 'Banana', 'Coconut']))\n",
    "\n",
    "print(map_word(['ab', 'cde', 'erty']))"
   ]
  },
  {
   "cell_type": "markdown",
   "metadata": {},
   "source": [
    "###### 2.2 Write a Python function which takes a character (i.e. a string of length 1) and returns True if it is a vowel, False otherwise."
   ]
  },
  {
   "cell_type": "code",
   "execution_count": 123,
   "metadata": {},
   "outputs": [
    {
     "name": "stdout",
     "output_type": "stream",
     "text": [
      "Enter any character:A\n",
      "Is Entered Character Vowel?: True\n"
     ]
    }
   ],
   "source": [
    "char = input('Enter any character:')\n",
    "def is_vowel(x):\n",
    "    vowels = ['a', 'e', 'i', 'o', 'u']\n",
    "    if (char == 'a' or char == 'A' or char == 'e' or char == 'E' or char == 'i' or char == 'I' or\n",
    "        char == 'o' or char == 'O' or char == 'u' or char == 'U'):\n",
    "        return True\n",
    "    else:\n",
    "        return False\n",
    "\n",
    "print('Is Entered Character Vowel?:', is_vowel(char))   "
   ]
  },
  {
   "cell_type": "code",
   "execution_count": null,
   "metadata": {},
   "outputs": [],
   "source": []
  },
  {
   "cell_type": "code",
   "execution_count": null,
   "metadata": {},
   "outputs": [],
   "source": []
  },
  {
   "cell_type": "code",
   "execution_count": null,
   "metadata": {},
   "outputs": [],
   "source": []
  }
 ],
 "metadata": {
  "kernelspec": {
   "display_name": "Python 3",
   "language": "python",
   "name": "python3"
  },
  "language_info": {
   "codemirror_mode": {
    "name": "ipython",
    "version": 3
   },
   "file_extension": ".py",
   "mimetype": "text/x-python",
   "name": "python",
   "nbconvert_exporter": "python",
   "pygments_lexer": "ipython3",
   "version": "3.8.5"
  }
 },
 "nbformat": 4,
 "nbformat_minor": 4
}
