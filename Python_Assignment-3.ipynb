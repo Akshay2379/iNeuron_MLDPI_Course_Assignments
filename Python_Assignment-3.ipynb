{
 "cells": [
  {
   "cell_type": "markdown",
   "metadata": {},
   "source": [
    "###### 1.1 Write a Python Program to implement your own 'myreduce() function' which works exactly like Python's built-in function 'reduce()'"
   ]
  },
  {
   "cell_type": "code",
   "execution_count": 68,
   "metadata": {},
   "outputs": [
    {
     "name": "stdout",
     "output_type": "stream",
     "text": [
      "Reduced List Addition value is 15\n",
      "Reduced List Multiplication value is 120\n"
     ]
    }
   ],
   "source": [
    "# Initialize Function\n",
    "\n",
    "def my_reduce(func, lst):\n",
    "    final_value = lst[0]\n",
    "    for i in lst[1:]:\n",
    "        final_value = func(final_value, i)\n",
    "    return final_value\n",
    "\n",
    "# Define Add function\n",
    "\n",
    "def add_lst(x, y):\n",
    "        return (x+y)\n",
    "\n",
    "# Define Multiply function\n",
    "\n",
    "def multiply_lst(x, y):\n",
    "        return (x*y)\n",
    "    \n",
    "# Call 'my_reduce' Function\n",
    "\n",
    "print(\"Reduced List Addition value is\", my_reduce(add_lst, [1, 2, 3, 4, 5]))\n",
    "print(\"Reduced List Multiplication value is\", my_reduce(multiply_lst, [1, 2, 3, 4, 5]))\n"
   ]
  },
  {
   "cell_type": "markdown",
   "metadata": {},
   "source": [
    "###### 1.2 Write a Python program to implement your own 'myfilter()' function which works exactly like Python's built-in function 'filter()'"
   ]
  },
  {
   "cell_type": "code",
   "execution_count": 69,
   "metadata": {},
   "outputs": [
    {
     "name": "stdout",
     "output_type": "stream",
     "text": [
      "Even Numbers: [2, 4, 6, 8, 10]\n",
      "Odd Numbers: [1, 3, 5, 7, 9]\n"
     ]
    }
   ],
   "source": [
    "# Initialize Function\n",
    "\n",
    "def my_filter(func, lst1):\n",
    "    lst2 =[]    \n",
    "    for i in lst1:\n",
    "        if func(i):\n",
    "            lst2.append(i)\n",
    "    return lst2\n",
    "\n",
    "def even_filter(x):\n",
    "    if x % 2 == 0:\n",
    "        return True\n",
    "\n",
    "def odd_filter(x):\n",
    "    if x % 2 != 0:\n",
    "        return True\n",
    "    \n",
    "print(\"Even Numbers:\", my_filter(even_filter, [1, 2, 3, 4, 5, 6, 7, 8, 9, 10]))\n",
    "print(\"Odd Numbers:\", my_filter(odd_filter, [1, 2, 3, 4, 5, 6, 7, 8, 9, 10]))\n"
   ]
  },
  {
   "cell_type": "markdown",
   "metadata": {},
   "source": [
    "###### 2. Write List comprehensions to produce the following Lists\n",
    "###### ['x', 'xx', 'xxx', 'xxxx', 'y', 'yy', 'yyy', 'yyyy', 'z', 'zz', 'zzz', 'zzzz']"
   ]
  },
  {
   "cell_type": "code",
   "execution_count": 70,
   "metadata": {},
   "outputs": [
    {
     "name": "stdout",
     "output_type": "stream",
     "text": [
      "Original List: ['x', 'y', 'z']\n",
      "Using List Comprehension: ['x', 'xx', 'xxx', 'xxxx', 'y', 'yy', 'yyy', 'yyyy', 'z', 'zz', 'zzz', 'zzzz']\n"
     ]
    }
   ],
   "source": [
    "lst_1 = ['x', 'y', 'z']\n",
    "\n",
    "r = 5\n",
    "print('Original List:', lst_1)\n",
    "print(\"Using List Comprehension:\", [j*i for j in lst_1 for i in range(1, r)])"
   ]
  },
  {
   "cell_type": "markdown",
   "metadata": {},
   "source": [
    "###### ['x', 'y', 'z', 'xx', 'yy', 'zz', 'xxx', 'yyy', 'zzz', 'xxxx', 'yyyy', 'zzzz']"
   ]
  },
  {
   "cell_type": "code",
   "execution_count": 71,
   "metadata": {},
   "outputs": [
    {
     "name": "stdout",
     "output_type": "stream",
     "text": [
      "Original List: ['x', 'y', 'z']\n",
      "Using List Comprehension: ['x', 'y', 'z', 'xx', 'yy', 'zz', 'xxx', 'yyy', 'zzz', 'xxxx', 'yyyy', 'zzzz']\n"
     ]
    }
   ],
   "source": [
    "lst_2 = ['x', 'y', 'z']\n",
    "\n",
    "r = 5\n",
    "print('Original List:', lst_2)\n",
    "print(\"Using List Comprehension:\", [j*i for j in range(1, r) for i in lst_2])"
   ]
  },
  {
   "cell_type": "markdown",
   "metadata": {},
   "source": [
    "###### [[2], [3], [4], [3], [4], [5], [4], [5], [6]]"
   ]
  },
  {
   "cell_type": "code",
   "execution_count": 72,
   "metadata": {},
   "outputs": [
    {
     "name": "stdout",
     "output_type": "stream",
     "text": [
      "Original List: [2, 3, 4]\n",
      "Using List Comprehension: [[2], [3], [4], [3], [4], [5], [4], [5], [6]]\n"
     ]
    }
   ],
   "source": [
    "lst_3 = [2, 3, 4]\n",
    "\n",
    "print('Original List:', lst_3)\n",
    "print(\"Using List Comprehension:\", [[i+j] for j in lst_3 for i in range(len(lst_3))])"
   ]
  },
  {
   "cell_type": "markdown",
   "metadata": {},
   "source": [
    "###### [[2, 3, 4, 5], [3, 4, 5, 6], [4, 5, 6, 7], [5, 6, 7, 8]]"
   ]
  },
  {
   "cell_type": "code",
   "execution_count": 73,
   "metadata": {},
   "outputs": [
    {
     "name": "stdout",
     "output_type": "stream",
     "text": [
      "Original List: [2, 3, 4, 5]\n",
      "Using List Comprehension: [[2, 3, 4, 5], [3, 4, 5, 6], [4, 5, 6, 7], [5, 6, 7, 8]]\n"
     ]
    }
   ],
   "source": [
    "lst_4 = [2, 3, 4, 5]\n",
    "\n",
    "print('Original List:', lst_4)\n",
    "print(\"Using List Comprehension:\", [[i+j for j in lst_4] for i in range(0, len(lst_4))])"
   ]
  },
  {
   "cell_type": "markdown",
   "metadata": {},
   "source": [
    "###### [(1, 1), (2, 1), (3, 1), (1, 2), (2, 2), (3, 2), (1, 3), (2, 3), (3, 3)]"
   ]
  },
  {
   "cell_type": "code",
   "execution_count": 74,
   "metadata": {},
   "outputs": [
    {
     "name": "stdout",
     "output_type": "stream",
     "text": [
      "Original List: [1, 2, 3]\n",
      "Using List Comprehension: [(1, 1), (1, 2), (1, 3), (2, 1), (2, 2), (2, 3), (3, 1), (3, 2), (3, 3)]\n"
     ]
    }
   ],
   "source": [
    "lst_5 = [1, 2, 3]\n",
    "\n",
    "print('Original List:', lst_5)\n",
    "print(\"Using List Comprehension:\", [(i,j) for i in lst_5 for j in range(1, len(lst_5) + 1)])"
   ]
  },
  {
   "cell_type": "code",
   "execution_count": null,
   "metadata": {},
   "outputs": [],
   "source": []
  },
  {
   "cell_type": "code",
   "execution_count": null,
   "metadata": {},
   "outputs": [],
   "source": []
  },
  {
   "cell_type": "code",
   "execution_count": null,
   "metadata": {},
   "outputs": [],
   "source": []
  }
 ],
 "metadata": {
  "kernelspec": {
   "display_name": "Python 3",
   "language": "python",
   "name": "python3"
  },
  "language_info": {
   "codemirror_mode": {
    "name": "ipython",
    "version": 3
   },
   "file_extension": ".py",
   "mimetype": "text/x-python",
   "name": "python",
   "nbconvert_exporter": "python",
   "pygments_lexer": "ipython3",
   "version": "3.8.5"
  }
 },
 "nbformat": 4,
 "nbformat_minor": 4
}
